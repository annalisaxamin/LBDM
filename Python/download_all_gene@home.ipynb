{
 "cells": [
  {
   "cell_type": "code",
   "execution_count": 7,
   "metadata": {},
   "outputs": [],
   "source": [
    "import pandas as pd\n",
    "import csv\n",
    "from bs4 import BeautifulSoup\n",
    "import requests\n",
    "from os import walk, makedirs\n",
    "import time\n",
    "import random\n",
    "import zipfile\n",
    "import json\n",
    "import numpy as np\n",
    "import warnings\n",
    "warnings.filterwarnings('ignore')"
   ]
  },
  {
   "cell_type": "code",
   "execution_count": 24,
   "metadata": {},
   "outputs": [],
   "source": [
    "gene_list = []\n",
    "\n",
    "gene_list = pd.read_csv(\"./dataset/to_scrape.txt\", sep=', ')\n",
    "\n",
    "gene_list = list(gene_list.columns)\n",
    "\n",
    "fantom_db = pd.read_csv(\"./dataset/anno-fantom.csv\")\n",
    "snoDB = pd.read_csv(\"./dataset/snoDB_All_V2.0.csv\",keep_default_na=False)\n",
    "\n",
    "gene_new = {\"SNORA11\", \"SNORA74A\", \"SNORA63C\", \"SNORD50B\", \"SNORD89\", \"SNORA74A\", \"SNORD57\", \"SNORD7\", \"SNORA31\", \"SNORD65\", \"SNORD6\", \"SNORA25\", \"SNORA32\", \"SNORA51\", \"SNORD8\", \"SNORA63\", \"SNORA4\", \"SNORA66\", \"SNORA20\", \"SNORA20\", \"SNORA67\", \"SNORD22\", \"SNORD58C\", \"SNORD108\"}\n",
    "\n",
    "gene_list = set(gene_list).intersection(gene_new)"
   ]
  },
  {
   "cell_type": "code",
   "execution_count": 23,
   "metadata": {},
   "outputs": [
    {
     "name": "stdout",
     "output_type": "stream",
     "text": [
      "Looking for SNORD65\n",
      "Looking for SNORA32\n",
      "Looking for SNORD108\n",
      "Looking for SNORD89\n",
      "Looking for SNORD58C\n",
      "Looking for SNORD57\n",
      "Looking for SNORA63\n",
      "Looking for SNORD22\n",
      "Looking for SNORD8\n",
      "Missing genes: \n"
     ]
    }
   ],
   "source": [
    "def get_gene_links(gene_list):\n",
    "    url = 'https://gene.disi.unitn.it/test/gene_history-z.php'\n",
    "    data = {\n",
    "        'org': 'Hs+(Homo+sapiens)',\n",
    "        'tsize': '',\n",
    "        'iter': '',\n",
    "        'alpha': '0.05',\n",
    "        'lgn': '',\n",
    "        'submit': 'SEARCH'}\n",
    "    missing_list = []\n",
    "\n",
    "    for gene in gene_list:\n",
    "        print(f\"Looking for {gene}\")\n",
    "        data['lgn'] = gene\n",
    "        soup = BeautifulSoup(requests.post(url, data = data).text, \"lxml\")\n",
    "\n",
    "        if soup.find(\"div\",{\"id\":\"dialog-end\"}) != None:\n",
    "            missing_list.append(gene)\n",
    "        else:\n",
    "            table = soup.find(\"tbody\")\n",
    "            rows = table.find_all(\"tr\")\n",
    "            for row in rows:\n",
    "                columns = row.find_all(\"td\")\n",
    "                if columns[2].string.split(\"-\")[1] == gene:\n",
    "                    downloaded_file = requests.get(f\"https://gene.disi.unitn.it/test/gene_result-z.php?id={columns[0].string}_{columns[1].string}\", allow_redirects=True)\n",
    "                    open(f'./gene_expansions_top_20_sno/{columns[0].string}_{columns[1].string}.zip', 'wb').write(downloaded_file.content) \n",
    "        time.sleep(random.uniform(1.5,2.0))\n",
    "\n",
    "    return missing_list\n",
    "\n",
    "makedirs(\"./gene_expansions_top_20_sno\", exist_ok=True)\n",
    "missing_list = get_gene_links(gene_list)\n",
    "print(f\"Missing genes: {', '.join(missing_list)}\")"
   ]
  }
 ],
 "metadata": {
  "kernelspec": {
   "display_name": "Python 3.10.8 ('lbdm')",
   "language": "python",
   "name": "python3"
  },
  "language_info": {
   "codemirror_mode": {
    "name": "ipython",
    "version": 3
   },
   "file_extension": ".py",
   "mimetype": "text/x-python",
   "name": "python",
   "nbconvert_exporter": "python",
   "pygments_lexer": "ipython3",
   "version": "3.10.8"
  },
  "orig_nbformat": 4,
  "vscode": {
   "interpreter": {
    "hash": "cfc166373e40529bbb5a52682b8f4d66a02de36708113d89b69ac95060daadec"
   }
  }
 },
 "nbformat": 4,
 "nbformat_minor": 2
}
