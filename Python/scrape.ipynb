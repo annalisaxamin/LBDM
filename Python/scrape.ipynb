{
 "cells": [
  {
   "cell_type": "code",
   "execution_count": 1,
   "metadata": {},
   "outputs": [],
   "source": [
    "import pandas as pd\n",
    "import csv\n",
    "from bs4 import BeautifulSoup\n",
    "import requests\n",
    "import time\n",
    "import random\n",
    "import json"
   ]
  },
  {
   "cell_type": "markdown",
   "metadata": {},
   "source": [
    "We get the id of the gene list, in order to request the expansion to gene@home"
   ]
  },
  {
   "cell_type": "code",
   "execution_count": 2,
   "metadata": {},
   "outputs": [
    {
     "name": "stderr",
     "output_type": "stream",
     "text": [
      "C:\\Users\\Lorenzo\\AppData\\Local\\Temp\\ipykernel_13324\\528389424.py:4: ParserWarning: Falling back to the 'python' engine because the 'c' engine does not support regex separators (separators > 1 char and different from '\\s+' are interpreted as regex); you can avoid this warning by specifying engine='python'.\n",
      "  gene_list = pd.read_csv(\"./dataset/to_scrape.txt\", sep=', ')\n"
     ]
    }
   ],
   "source": [
    "gene_list = []\n",
    "final = {}\n",
    "\n",
    "gene_list = pd.read_csv(\"./dataset/to_scrape.txt\", sep=', ')\n",
    "\n",
    "gene_list = list(gene_list.columns)\n",
    "    "
   ]
  },
  {
   "cell_type": "code",
   "execution_count": 3,
   "metadata": {},
   "outputs": [],
   "source": [
    "def get_unexpanded_genes(gene_list):\n",
    "    url = 'https://gene.disi.unitn.it/test/gene_history-z.php'\n",
    "    data = {\n",
    "        'org': 'Hs+(Homo+sapiens)',\n",
    "        'tsize': '',\n",
    "        'iter': '',\n",
    "        'alpha': '0.05',\n",
    "        'lgn': '',\n",
    "        'submit': 'SEARCH'}\n",
    "    final_list = []\n",
    "\n",
    "    for gene in gene_list:\n",
    "        print(f\"Scraping {gene}\")\n",
    "        data['lgn'] = gene\n",
    "        soup = BeautifulSoup(requests.post(url, data = data).text, \"lxml\")\n",
    "\n",
    "        if soup.find(\"div\",{\"id\":\"dialog-end\"}) != None:\n",
    "            final_list.append(gene)\n",
    "        \n",
    "        time.sleep(random.uniform(1.5,2.0))\n",
    "\n",
    "    return final_list"
   ]
  },
  {
   "cell_type": "code",
   "execution_count": 4,
   "metadata": {},
   "outputs": [
    {
     "name": "stdout",
     "output_type": "stream",
     "text": [
      "Scraping ZFAS1\n",
      "Scraping CDKN2B-AS1\n",
      "Scraping RACK1\n",
      "Scraping SNHG20\n"
     ]
    },
    {
     "data": {
      "text/plain": [
       "['ZFAS1', 'CDKN2B-AS1', 'RACK1', 'SNHG20']"
      ]
     },
     "execution_count": 4,
     "metadata": {},
     "output_type": "execute_result"
    }
   ],
   "source": [
    "genes_final = get_unexpanded_genes(gene_list)\n",
    "genes_final"
   ]
  }
 ],
 "metadata": {
  "kernelspec": {
   "display_name": "lbdm",
   "language": "python",
   "name": "python3"
  },
  "language_info": {
   "codemirror_mode": {
    "name": "ipython",
    "version": 3
   },
   "file_extension": ".py",
   "mimetype": "text/x-python",
   "name": "python",
   "nbconvert_exporter": "python",
   "pygments_lexer": "ipython3",
   "version": "3.10.8"
  },
  "orig_nbformat": 4,
  "vscode": {
   "interpreter": {
    "hash": "cfc166373e40529bbb5a52682b8f4d66a02de36708113d89b69ac95060daadec"
   }
  }
 },
 "nbformat": 4,
 "nbformat_minor": 2
}
