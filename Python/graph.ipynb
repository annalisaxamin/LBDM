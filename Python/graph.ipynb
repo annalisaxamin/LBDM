{
 "cells": [
  {
   "cell_type": "code",
   "execution_count": 54,
   "metadata": {},
   "outputs": [],
   "source": [
    "import graphviz as gv\n",
    "import pandas as pd"
   ]
  },
  {
   "cell_type": "code",
   "execution_count": 55,
   "metadata": {},
   "outputs": [],
   "source": [
    "dot = gv.Digraph(filename='test.gv')\n",
    "dot.attr(size='8,5')\n",
    "edge_df = pd.read_csv('../R_code/edges.csv')\n",
    "node_df = pd.read_csv('../R_code/nodes.csv')\n",
    "edge_df.drop(['Unnamed: 0'], axis=1, inplace=True)\n",
    "node_df.drop(['Unnamed: 0'], axis=1, inplace=True)"
   ]
  },
  {
   "cell_type": "code",
   "execution_count": 56,
   "metadata": {},
   "outputs": [],
   "source": [
    "dot.attr('node', shape='circle', fixedsize='true', width='0.9', color='#000000')\n",
    "for index, row in node_df.iterrows():\n",
    "    dot.node(row.id, row.label)  "
   ]
  },
  {
   "cell_type": "code",
   "execution_count": 57,
   "metadata": {},
   "outputs": [],
   "source": [
    "for index, row in edge_df.iterrows():\n",
    "    dot.edge(row['from'], row['to'], label=str(row['weight']), color='#000000', width='0.9')"
   ]
  },
  {
   "cell_type": "code",
   "execution_count": 58,
   "metadata": {},
   "outputs": [
    {
     "name": "stderr",
     "output_type": "stream",
     "text": [
      "Warning: node 't012232', graph '%3' size too small for label\n",
      "Warning: node 't011014', graph '%3' size too small for label\n",
      "Warning: node 't011013', graph '%3' size too small for label\n",
      "Warning: node 't091265', graph '%3' size too small for label\n",
      "Warning: node 't190880', graph '%3' size too small for label\n",
      "Warning: node 't076774', graph '%3' size too small for label\n",
      "Warning: node 't053536', graph '%3' size too small for label\n",
      "Warning: node 't101858', graph '%3' size too small for label\n",
      "Warning: node 't067545', graph '%3' size too small for label\n",
      "Warning: node 't093128', graph '%3' size too small for label\n",
      "Warning: node 't069395', graph '%3' size too small for label\n",
      "Warning: node 't076770', graph '%3' size too small for label\n",
      "Warning: node 't189096', graph '%3' size too small for label\n",
      "Warning: node 't153236', graph '%3' size too small for label\n",
      "Warning: node 't093142', graph '%3' size too small for label\n",
      "Warning: node 't190879', graph '%3' size too small for label\n",
      "Warning: node 't189092', graph '%3' size too small for label\n",
      "Warning: node 't189087', graph '%3' size too small for label\n",
      "Warning: node 't189097', graph '%3' size too small for label\n",
      "Warning: node 't189094', graph '%3' size too small for label\n",
      "Warning: node 't189093', graph '%3' size too small for label\n",
      "Warning: node 't152844', graph '%3' size too small for label\n",
      "Warning: node 't032213', graph '%3' size too small for label\n",
      "Warning: node 't067544', graph '%3' size too small for label\n",
      "Warning: node 't142844', graph '%3' size too small for label\n",
      "Warning: node 't189091', graph '%3' size too small for label\n",
      "Warning: node 't152845', graph '%3' size too small for label\n",
      "Warning: node 't201615', graph '%3' size too small for label\n",
      "Warning: node 't189095', graph '%3' size too small for label\n",
      "Warning: node 't072302', graph '%3' size too small for label\n",
      "Warning: node 't189088', graph '%3' size too small for label\n",
      "Warning: node 't099401', graph '%3' size too small for label\n",
      "Warning: node 't061811', graph '%3' size too small for label\n",
      "Warning: node 't027196', graph '%3' size too small for label\n",
      "Warning: node 't189089', graph '%3' size too small for label\n",
      "Warning: node 't183385', graph '%3' size too small for label\n",
      "Warning: node 't189090', graph '%3' size too small for label\n",
      "Warning: node 't099262', graph '%3' size too small for label\n"
     ]
    },
    {
     "data": {
      "text/plain": [
       "'test.gv.pdf'"
      ]
     },
     "execution_count": 58,
     "metadata": {},
     "output_type": "execute_result"
    }
   ],
   "source": [
    "dot.render(view=True)"
   ]
  }
 ],
 "metadata": {
  "kernelspec": {
   "display_name": "lbdm",
   "language": "python",
   "name": "python3"
  },
  "language_info": {
   "codemirror_mode": {
    "name": "ipython",
    "version": 3
   },
   "file_extension": ".py",
   "mimetype": "text/x-python",
   "name": "python",
   "nbconvert_exporter": "python",
   "pygments_lexer": "ipython3",
   "version": "3.10.8 | packaged by conda-forge | (main, Nov 24 2022, 14:07:00) [MSC v.1916 64 bit (AMD64)]"
  },
  "orig_nbformat": 4,
  "vscode": {
   "interpreter": {
    "hash": "cfc166373e40529bbb5a52682b8f4d66a02de36708113d89b69ac95060daadec"
   }
  }
 },
 "nbformat": 4,
 "nbformat_minor": 2
}
