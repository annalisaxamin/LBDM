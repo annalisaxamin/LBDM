{
 "cells": [
  {
   "cell_type": "markdown",
   "metadata": {},
   "source": [
    "Check the queue of gene@home"
   ]
  },
  {
   "cell_type": "code",
   "execution_count": 1,
   "metadata": {},
   "outputs": [],
   "source": [
    "genes_in_queue = []\n",
    "with open(\"tocheck.txt\",\"r\") as f:\n",
    "    gene_list = f.read().splitlines()\n",
    "\n",
    "genes_in_queue_cleaned = []\n",
    "for gene in gene_list:\n",
    "    gene = gene.split(\"\\t\")[2]\n",
    "    genes_in_queue_cleaned.append(gene.split(\"-\")[0])\n",
    "    \n",
    "    #221874\tHs\tT093126-SNORA73A\t2022-11-08 13:08:03\t0.050\t1000\t2000\t5\t600 2\t?\tstart\n",
    "with open(\"genes_in_queue_cleaned.txt\",\"w\") as f:\n",
    "    for gene in genes_in_queue_cleaned:\n",
    "        f.write(f\"{gene}\\n\")"
   ]
  }
 ],
 "metadata": {
  "kernelspec": {
   "display_name": "Python 3.9.6 64-bit ('lbdm')",
   "language": "python",
   "name": "python3"
  },
  "language_info": {
   "codemirror_mode": {
    "name": "ipython",
    "version": 3
   },
   "file_extension": ".py",
   "mimetype": "text/x-python",
   "name": "python",
   "nbconvert_exporter": "python",
   "pygments_lexer": "ipython3",
   "version": "3.9.6"
  },
  "orig_nbformat": 4,
  "vscode": {
   "interpreter": {
    "hash": "f2e6fa9f8b441fadbe5b145c1cc226e777d40bfe1043283f6e6e5e360a05ebc0"
   }
  }
 },
 "nbformat": 4,
 "nbformat_minor": 2
}
