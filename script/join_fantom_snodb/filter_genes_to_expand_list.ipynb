{
 "cells": [
  {
   "cell_type": "code",
   "execution_count": 1,
   "metadata": {},
   "outputs": [],
   "source": [
    "import requests\n",
    "from bs4 import BeautifulSoup\n",
    "import time\n",
    "import random\n",
    "\n",
    "url = 'https://gene.disi.unitn.it/test/gene_history-z.php'\n",
    "data = {\n",
    "    'org': 'Hs+(Homo+sapiens)',\n",
    "    'tsize': '',\n",
    "    'iter': '',\n",
    "    'alpha': '0.05',\n",
    "    'lgn': '',\n",
    "    'submit': 'SEARCH'}\n",
    "\n",
    "gene_list = []\n"
   ]
  },
  {
   "cell_type": "code",
   "execution_count": 13,
   "metadata": {},
   "outputs": [],
   "source": [
    "with open(\"to-expand.txt\",\"r\") as f:\n",
    "    gene_list = f.read().splitlines()\n"
   ]
  },
  {
   "cell_type": "code",
   "execution_count": 2,
   "metadata": {},
   "outputs": [],
   "source": [
    "\n",
    "def get_unexpanded_genes(gene_list):\n",
    "    final_list = []\n",
    "    for gene in gene_list:\n",
    "        data['lgn'] = gene\n",
    "        soup = BeautifulSoup(requests.post(url, data = data).content,\"html.parser\")\n",
    "\n",
    "        if soup.find(\"div\",{\"id\":\"dialog-end\"}) != None:\n",
    "            final_list.append(gene)\n",
    "        \n",
    "        time.sleep(random.uniform(1.5,2.0))\n",
    "\n",
    "    return final_list\n"
   ]
  },
  {
   "cell_type": "code",
   "execution_count": null,
   "metadata": {},
   "outputs": [],
   "source": [
    "final_list = get_unexpanded_genes(gene_list)\n",
    "with open('to-expand-final.txt', 'w') as f:\n",
    "    for gene in final_list:\n",
    "        f.write(f\"{gene}\\n\")"
   ]
  },
  {
   "cell_type": "code",
   "execution_count": 3,
   "metadata": {},
   "outputs": [
    {
     "data": {
      "text/plain": [
       "46"
      ]
     },
     "execution_count": 3,
     "metadata": {},
     "output_type": "execute_result"
    }
   ],
   "source": [
    "with open(\"genes-from-papers-not-expanded.txt\",\"r\") as f:\n",
    "    gene_list = f.read().splitlines()\n",
    "final_list = get_unexpanded_genes(gene_list)\n",
    "len(final_list)"
   ]
  },
  {
   "cell_type": "code",
   "execution_count": null,
   "metadata": {},
   "outputs": [],
   "source": [
    "with open('genes-from-papers-not-expanded-filtered.txt', 'w') as f:\n",
    "    for gene in final_list:\n",
    "        f.write(f\"{gene}\\n\")"
   ]
  }
 ],
 "metadata": {
  "kernelspec": {
   "display_name": "Python 3.9.6 64-bit ('lbdm')",
   "language": "python",
   "name": "python3"
  },
  "language_info": {
   "codemirror_mode": {
    "name": "ipython",
    "version": 3
   },
   "file_extension": ".py",
   "mimetype": "text/x-python",
   "name": "python",
   "nbconvert_exporter": "python",
   "pygments_lexer": "ipython3",
   "version": "3.9.6"
  },
  "orig_nbformat": 4,
  "vscode": {
   "interpreter": {
    "hash": "f2e6fa9f8b441fadbe5b145c1cc226e777d40bfe1043283f6e6e5e360a05ebc0"
   }
  }
 },
 "nbformat": 4,
 "nbformat_minor": 2
}
